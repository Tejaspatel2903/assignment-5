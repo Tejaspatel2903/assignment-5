{
  "nbformat": 4,
  "nbformat_minor": 0,
  "metadata": {
    "colab": {
      "provenance": []
    },
    "kernelspec": {
      "name": "python3",
      "display_name": "Python 3"
    },
    "language_info": {
      "name": "python"
    }
  },
  "cells": [
    {
      "cell_type": "markdown",
      "source": [
        "1. What does an empty dictionary's code look like?"
      ],
      "metadata": {
        "id": "xs9FEZ2u8VhJ"
      }
    },
    {
      "cell_type": "code",
      "execution_count": 2,
      "metadata": {
        "colab": {
          "base_uri": "https://localhost:8080/"
        },
        "id": "KsDc5n3a8LWA",
        "outputId": "01094fbc-5764-4d00-f5b3-374a5bfeea54"
      },
      "outputs": [
        {
          "output_type": "execute_result",
          "data": {
            "text/plain": [
              "dict"
            ]
          },
          "metadata": {},
          "execution_count": 2
        }
      ],
      "source": [
        "dict = {}\n",
        "type(dict)"
      ]
    },
    {
      "cell_type": "markdown",
      "source": [
        "2. What is the value of a dictionary value with the key 'foo' and the value 42?"
      ],
      "metadata": {
        "id": "rymnns_H8X-0"
      }
    },
    {
      "cell_type": "code",
      "source": [
        "{'foo':42}"
      ],
      "metadata": {
        "colab": {
          "base_uri": "https://localhost:8080/"
        },
        "id": "-1x1B59Y8WA6",
        "outputId": "2b55a980-b2ff-42e9-a648-5b5ba8e58858"
      },
      "execution_count": 3,
      "outputs": [
        {
          "output_type": "execute_result",
          "data": {
            "text/plain": [
              "{'foo': 42}"
            ]
          },
          "metadata": {},
          "execution_count": 3
        }
      ]
    },
    {
      "cell_type": "markdown",
      "source": [
        "3. What is the most significant distinction between a dictionary and a list?"
      ],
      "metadata": {
        "id": "LesfItUY8Ym8"
      }
    },
    {
      "cell_type": "markdown",
      "source": [
        "ans:-  Most significant difference:\n",
        "\n",
        "       List - items in list are Ordered\n",
        "\n",
        "       Dictionary : iten in dictionary are unordered"
      ],
      "metadata": {
        "id": "pXZr2KKq9xfM"
      }
    },
    {
      "cell_type": "markdown",
      "source": [
        "4. What happens if you try to access spam['foo'] if spam is {'bar': 100}?\n"
      ],
      "metadata": {
        "id": "HQCB9AV9-EHM"
      }
    },
    {
      "cell_type": "code",
      "source": [
        "spam = {'bar':100}\n",
        "spam['foo']\n",
        "#This will give us key error"
      ],
      "metadata": {
        "colab": {
          "base_uri": "https://localhost:8080/",
          "height": 200
        },
        "id": "R7m_MMSV8WO9",
        "outputId": "7a6576fe-4dff-4db4-ae04-05c4b851ebc1"
      },
      "execution_count": 4,
      "outputs": [
        {
          "output_type": "error",
          "ename": "KeyError",
          "evalue": "ignored",
          "traceback": [
            "\u001b[0;31m---------------------------------------------------------------------------\u001b[0m",
            "\u001b[0;31mKeyError\u001b[0m                                  Traceback (most recent call last)",
            "\u001b[0;32m<ipython-input-4-3d68fc6babd3>\u001b[0m in \u001b[0;36m<cell line: 2>\u001b[0;34m()\u001b[0m\n\u001b[1;32m      1\u001b[0m \u001b[0mspam\u001b[0m \u001b[0;34m=\u001b[0m \u001b[0;34m{\u001b[0m\u001b[0;34m'bar'\u001b[0m\u001b[0;34m:\u001b[0m\u001b[0;36m100\u001b[0m\u001b[0;34m}\u001b[0m\u001b[0;34m\u001b[0m\u001b[0;34m\u001b[0m\u001b[0m\n\u001b[0;32m----> 2\u001b[0;31m \u001b[0mspam\u001b[0m\u001b[0;34m[\u001b[0m\u001b[0;34m'foo'\u001b[0m\u001b[0;34m]\u001b[0m\u001b[0;34m\u001b[0m\u001b[0;34m\u001b[0m\u001b[0m\n\u001b[0m\u001b[1;32m      3\u001b[0m \u001b[0;31m#This will give us key error\u001b[0m\u001b[0;34m\u001b[0m\u001b[0;34m\u001b[0m\u001b[0m\n",
            "\u001b[0;31mKeyError\u001b[0m: 'foo'"
          ]
        }
      ]
    },
    {
      "cell_type": "code",
      "source": [
        "spam = {'bar':100}\n",
        "type('bar')"
      ],
      "metadata": {
        "colab": {
          "base_uri": "https://localhost:8080/"
        },
        "id": "euws5TFY8WS_",
        "outputId": "b8242155-c712-4fe5-d8e4-52f62695a2ea"
      },
      "execution_count": 7,
      "outputs": [
        {
          "output_type": "execute_result",
          "data": {
            "text/plain": [
              "str"
            ]
          },
          "metadata": {},
          "execution_count": 7
        }
      ]
    },
    {
      "cell_type": "markdown",
      "source": [
        "5. If a dictionary is stored in spam, what is the difference between the expressions 'cat' in spam and 'cat' in spam.keys()?"
      ],
      "metadata": {
        "id": "9o9qRgbW8ZYF"
      }
    },
    {
      "cell_type": "code",
      "source": [
        "spam = {'cat':100}\n",
        "'cat' in spam"
      ],
      "metadata": {
        "colab": {
          "base_uri": "https://localhost:8080/"
        },
        "id": "o9EkhZjP_eLF",
        "outputId": "3349c5f8-ad98-4291-9768-e27bfc88a738"
      },
      "execution_count": 8,
      "outputs": [
        {
          "output_type": "execute_result",
          "data": {
            "text/plain": [
              "True"
            ]
          },
          "metadata": {},
          "execution_count": 8
        }
      ]
    },
    {
      "cell_type": "code",
      "source": [
        "'cat' in spam.keys()\n",
        "#There is no differnce, both check if 'cat' is key of the dictionary and if its a key, returns True."
      ],
      "metadata": {
        "colab": {
          "base_uri": "https://localhost:8080/"
        },
        "id": "qDiz6qTd8WWH",
        "outputId": "deac5bef-9fcc-4b38-f654-ddefaf8f4ecf"
      },
      "execution_count": 11,
      "outputs": [
        {
          "output_type": "execute_result",
          "data": {
            "text/plain": [
              "True"
            ]
          },
          "metadata": {},
          "execution_count": 11
        }
      ]
    },
    {
      "cell_type": "markdown",
      "source": [
        "6. If a dictionary is stored in spam, what is the difference between the expressions 'cat' in spam and 'cat' in spam.values()?"
      ],
      "metadata": {
        "id": "myAmc9hFAX5J"
      }
    },
    {
      "cell_type": "code",
      "source": [
        "spam ={'cat':100}\n",
        "'cat' in spam"
      ],
      "metadata": {
        "colab": {
          "base_uri": "https://localhost:8080/"
        },
        "id": "gc2JeNDA8WZJ",
        "outputId": "6a34f55e-e74f-409f-b52c-cca5da824e9c"
      },
      "execution_count": 12,
      "outputs": [
        {
          "output_type": "execute_result",
          "data": {
            "text/plain": [
              "True"
            ]
          },
          "metadata": {},
          "execution_count": 12
        }
      ]
    },
    {
      "cell_type": "code",
      "source": [
        "spam ={'cat':100}\n",
        "'cat' in spam.values()\n",
        "\n",
        "#'cat' in spam checks whether there is a 'cat' key in the dictionary\n",
        "#'cat' in spam.values() checks whether there is a value 'cat' for one of the keys in spam."
      ],
      "metadata": {
        "colab": {
          "base_uri": "https://localhost:8080/"
        },
        "id": "-jkYjTYr8WcJ",
        "outputId": "9685164d-354e-4216-9523-5874bd96922d"
      },
      "execution_count": 13,
      "outputs": [
        {
          "output_type": "execute_result",
          "data": {
            "text/plain": [
              "False"
            ]
          },
          "metadata": {},
          "execution_count": 13
        }
      ]
    },
    {
      "cell_type": "markdown",
      "source": [
        "7. What is a shortcut for the following code?"
      ],
      "metadata": {
        "id": "Gecjeo9uAqd8"
      }
    },
    {
      "cell_type": "code",
      "source": [
        "spam.setdefault('color','black')"
      ],
      "metadata": {
        "colab": {
          "base_uri": "https://localhost:8080/",
          "height": 36
        },
        "id": "cG65rmCZ8Wjg",
        "outputId": "42f3c4b6-d30a-49c8-d437-d2d0562f9c76"
      },
      "execution_count": 22,
      "outputs": [
        {
          "output_type": "execute_result",
          "data": {
            "text/plain": [
              "'black'"
            ],
            "application/vnd.google.colaboratory.intrinsic+json": {
              "type": "string"
            }
          },
          "metadata": {},
          "execution_count": 22
        }
      ]
    },
    {
      "cell_type": "markdown",
      "source": [
        "8. How do you &quot;pretty print&quot; dictionary values using which module and function?"
      ],
      "metadata": {
        "id": "7PzJ9VxuC6lB"
      }
    },
    {
      "cell_type": "code",
      "source": [
        "import pprint\n",
        "dct = [ {'Name': 'Shiva', 'Age': '23', 'Country': 'India'},\n",
        "  {'Name': 'Anna', 'Age': '44', 'Country': 'China'},\n",
        "  {'Name': 'Joe', 'Age': '29', 'Country': 'UK'},\n",
        "  {'Name': 'Chumlee', 'Age': '35', 'Country': 'USA'}\n",
        "]"
      ],
      "metadata": {
        "id": "rBvGbX9V8WqH"
      },
      "execution_count": 23,
      "outputs": []
    },
    {
      "cell_type": "code",
      "source": [
        "# printing with pprint()\n",
        "pprint.pprint(dct)"
      ],
      "metadata": {
        "colab": {
          "base_uri": "https://localhost:8080/"
        },
        "id": "aZ_xk7oWDDzm",
        "outputId": "9f2644bc-4ab1-4304-8b08-61c8b04c1cbc"
      },
      "execution_count": 24,
      "outputs": [
        {
          "output_type": "stream",
          "name": "stdout",
          "text": [
            "[{'Age': '23', 'Country': 'India', 'Name': 'Shiva'},\n",
            " {'Age': '44', 'Country': 'China', 'Name': 'Anna'},\n",
            " {'Age': '29', 'Country': 'UK', 'Name': 'Joe'},\n",
            " {'Age': '35', 'Country': 'USA', 'Name': 'Chumlee'}]\n"
          ]
        }
      ]
    },
    {
      "cell_type": "code",
      "source": [],
      "metadata": {
        "id": "BemuSpYEECJW"
      },
      "execution_count": null,
      "outputs": []
    }
  ]
}